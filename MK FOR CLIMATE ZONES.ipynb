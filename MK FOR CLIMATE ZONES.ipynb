{
 "cells": [
  {
   "cell_type": "code",
   "execution_count": 1,
   "metadata": {},
   "outputs": [],
   "source": [
    "#import the necessary packages\n",
    "\n",
    "import pandas as pd\n",
    "import pymannkendall as mk\n",
    "%matplotlib inline"
   ]
  },
  {
   "cell_type": "markdown",
   "metadata": {},
   "source": [
    "BEGIN THE MANN KENDALL (MK) TREND TEST FOR ALL PARAMETERS IN EACH LOCATION. The original MK test will be used, with a significance level of 5% (0.05)  "
   ]
  },
  {
   "cell_type": "code",
   "execution_count": 3,
   "metadata": {},
   "outputs": [
    {
     "data": {
      "text/html": [
       "<div>\n",
       "<style scoped>\n",
       "    .dataframe tbody tr th:only-of-type {\n",
       "        vertical-align: middle;\n",
       "    }\n",
       "\n",
       "    .dataframe tbody tr th {\n",
       "        vertical-align: top;\n",
       "    }\n",
       "\n",
       "    .dataframe thead th {\n",
       "        text-align: right;\n",
       "    }\n",
       "</style>\n",
       "<table border=\"1\" class=\"dataframe\">\n",
       "  <thead>\n",
       "    <tr style=\"text-align: right;\">\n",
       "      <th></th>\n",
       "      <th>Year</th>\n",
       "      <th>Temp</th>\n",
       "      <th>SVP</th>\n",
       "      <th>RH</th>\n",
       "      <th>VP</th>\n",
       "      <th>AP</th>\n",
       "      <th>REF</th>\n",
       "      <th>R</th>\n",
       "      <th>TL</th>\n",
       "      <th>EPT</th>\n",
       "      <th>...</th>\n",
       "      <th>Temp.1</th>\n",
       "      <th>SVP.1</th>\n",
       "      <th>RH.1</th>\n",
       "      <th>VP.1</th>\n",
       "      <th>AP.1</th>\n",
       "      <th>REF.1</th>\n",
       "      <th>R.1</th>\n",
       "      <th>TL.1</th>\n",
       "      <th>EPT.1</th>\n",
       "      <th>PT.1</th>\n",
       "    </tr>\n",
       "  </thead>\n",
       "  <tbody>\n",
       "    <tr>\n",
       "      <th>0</th>\n",
       "      <td>1981.0</td>\n",
       "      <td>297.809167</td>\n",
       "      <td>31.044849</td>\n",
       "      <td>88.100000</td>\n",
       "      <td>27.299015</td>\n",
       "      <td>996.416667</td>\n",
       "      <td>375.054142</td>\n",
       "      <td>17.522100</td>\n",
       "      <td>295.126130</td>\n",
       "      <td>349.195856</td>\n",
       "      <td>...</td>\n",
       "      <td>NaN</td>\n",
       "      <td>NaN</td>\n",
       "      <td>0.285653</td>\n",
       "      <td>NaN</td>\n",
       "      <td>NaN</td>\n",
       "      <td>NaN</td>\n",
       "      <td>NaN</td>\n",
       "      <td>NaN</td>\n",
       "      <td>NaN</td>\n",
       "      <td>NaN</td>\n",
       "    </tr>\n",
       "    <tr>\n",
       "      <th>1</th>\n",
       "      <td>1982.0</td>\n",
       "      <td>297.447500</td>\n",
       "      <td>30.373541</td>\n",
       "      <td>89.865000</td>\n",
       "      <td>27.255807</td>\n",
       "      <td>996.350000</td>\n",
       "      <td>375.450407</td>\n",
       "      <td>17.494295</td>\n",
       "      <td>295.191838</td>\n",
       "      <td>348.674030</td>\n",
       "      <td>...</td>\n",
       "      <td>NaN</td>\n",
       "      <td>NaN</td>\n",
       "      <td>-0.027753</td>\n",
       "      <td>NaN</td>\n",
       "      <td>NaN</td>\n",
       "      <td>NaN</td>\n",
       "      <td>NaN</td>\n",
       "      <td>NaN</td>\n",
       "      <td>NaN</td>\n",
       "      <td>NaN</td>\n",
       "    </tr>\n",
       "    <tr>\n",
       "      <th>2</th>\n",
       "      <td>1983.0</td>\n",
       "      <td>298.380833</td>\n",
       "      <td>32.399100</td>\n",
       "      <td>85.375000</td>\n",
       "      <td>27.194593</td>\n",
       "      <td>996.766667</td>\n",
       "      <td>373.756648</td>\n",
       "      <td>17.448782</td>\n",
       "      <td>294.895907</td>\n",
       "      <td>349.670218</td>\n",
       "      <td>...</td>\n",
       "      <td>NaN</td>\n",
       "      <td>NaN</td>\n",
       "      <td>-0.285653</td>\n",
       "      <td>NaN</td>\n",
       "      <td>NaN</td>\n",
       "      <td>NaN</td>\n",
       "      <td>NaN</td>\n",
       "      <td>NaN</td>\n",
       "      <td>NaN</td>\n",
       "      <td>NaN</td>\n",
       "    </tr>\n",
       "    <tr>\n",
       "      <th>3</th>\n",
       "      <td>1984.0</td>\n",
       "      <td>297.471667</td>\n",
       "      <td>30.404456</td>\n",
       "      <td>88.884167</td>\n",
       "      <td>27.028972</td>\n",
       "      <td>995.708333</td>\n",
       "      <td>374.271771</td>\n",
       "      <td>17.357327</td>\n",
       "      <td>294.990009</td>\n",
       "      <td>348.377978</td>\n",
       "      <td>...</td>\n",
       "      <td>True</td>\n",
       "      <td>True</td>\n",
       "      <td>0.000000</td>\n",
       "      <td>True</td>\n",
       "      <td>True</td>\n",
       "      <td>True</td>\n",
       "      <td>True</td>\n",
       "      <td>True</td>\n",
       "      <td>True</td>\n",
       "      <td>True</td>\n",
       "    </tr>\n",
       "    <tr>\n",
       "      <th>4</th>\n",
       "      <td>1985.0</td>\n",
       "      <td>297.728333</td>\n",
       "      <td>30.909036</td>\n",
       "      <td>87.427500</td>\n",
       "      <td>26.905763</td>\n",
       "      <td>996.108333</td>\n",
       "      <td>373.465668</td>\n",
       "      <td>17.268158</td>\n",
       "      <td>294.849443</td>\n",
       "      <td>348.380419</td>\n",
       "      <td>...</td>\n",
       "      <td>NaN</td>\n",
       "      <td>NaN</td>\n",
       "      <td>NaN</td>\n",
       "      <td>NaN</td>\n",
       "      <td>NaN</td>\n",
       "      <td>NaN</td>\n",
       "      <td>NaN</td>\n",
       "      <td>NaN</td>\n",
       "      <td>NaN</td>\n",
       "      <td>NaN</td>\n",
       "    </tr>\n",
       "  </tbody>\n",
       "</table>\n",
       "<p>5 rows × 21 columns</p>\n",
       "</div>"
      ],
      "text/plain": [
       "     Year        Temp        SVP         RH         VP          AP  \\\n",
       "0  1981.0  297.809167  31.044849  88.100000  27.299015  996.416667   \n",
       "1  1982.0  297.447500  30.373541  89.865000  27.255807  996.350000   \n",
       "2  1983.0  298.380833  32.399100  85.375000  27.194593  996.766667   \n",
       "3  1984.0  297.471667  30.404456  88.884167  27.028972  995.708333   \n",
       "4  1985.0  297.728333  30.909036  87.427500  26.905763  996.108333   \n",
       "\n",
       "          REF          R          TL         EPT  ...  Temp.1 SVP.1      RH.1  \\\n",
       "0  375.054142  17.522100  295.126130  349.195856  ...     NaN   NaN  0.285653   \n",
       "1  375.450407  17.494295  295.191838  348.674030  ...     NaN   NaN -0.027753   \n",
       "2  373.756648  17.448782  294.895907  349.670218  ...     NaN   NaN -0.285653   \n",
       "3  374.271771  17.357327  294.990009  348.377978  ...    True  True  0.000000   \n",
       "4  373.465668  17.268158  294.849443  348.380419  ...     NaN   NaN       NaN   \n",
       "\n",
       "   VP.1  AP.1 REF.1   R.1  TL.1 EPT.1  PT.1  \n",
       "0   NaN   NaN   NaN   NaN   NaN   NaN   NaN  \n",
       "1   NaN   NaN   NaN   NaN   NaN   NaN   NaN  \n",
       "2   NaN   NaN   NaN   NaN   NaN   NaN   NaN  \n",
       "3  True  True  True  True  True  True  True  \n",
       "4   NaN   NaN   NaN   NaN   NaN   NaN   NaN  \n",
       "\n",
       "[5 rows x 21 columns]"
      ]
     },
     "execution_count": 3,
     "metadata": {},
     "output_type": "execute_result"
    }
   ],
   "source": [
    "cal= pd.read_excel('climate research analyzed.xlsx', sheet_name ='calabar1')\n",
    "cal.head()"
   ]
  },
  {
   "cell_type": "code",
   "execution_count": 5,
   "metadata": {
    "scrolled": true
   },
   "outputs": [
    {
     "data": {
      "text/plain": [
       "Mann_Kendall_Test(trend='increasing', h=True, p=4.6464478931085296e-08, z=5.464335208972643, Tau=0.6025641025641025, s=470.0, var_s=7366.666666666667, slope=0.026678503787877242, intercept=297.76810250946966)"
      ]
     },
     "execution_count": 5,
     "metadata": {},
     "output_type": "execute_result"
    }
   ],
   "source": [
    "mk.original_test(cal.Temp, alpha=0.05)"
   ]
  },
  {
   "cell_type": "code",
   "execution_count": 6,
   "metadata": {
    "scrolled": true
   },
   "outputs": [
    {
     "data": {
      "text/plain": [
       "Mann_Kendall_Test(trend='increasing', h=True, p=4.68984124868399e-08, z=5.462685848564899, Tau=0.586527293844367, s=505.0, var_s=8512.333333333334, slope=0.050551483925438984, intercept=27.213348036627252)"
      ]
     },
     "execution_count": 6,
     "metadata": {},
     "output_type": "execute_result"
    }
   ],
   "source": [
    "mk.original_test(cal.VP, alpha=0.05)"
   ]
  },
  {
   "cell_type": "code",
   "execution_count": 7,
   "metadata": {
    "scrolled": true
   },
   "outputs": [
    {
     "data": {
      "text/plain": [
       "Mann_Kendall_Test(trend='no trend', h=False, p=0.83385394949437, z=-0.20976133802678293, Tau=-0.02435897435897436, s=-19.0, var_s=7363.666666666667, slope=-0.0009837962962898751, intercept=996.3441840277779)"
      ]
     },
     "execution_count": 7,
     "metadata": {},
     "output_type": "execute_result"
    }
   ],
   "source": [
    "mk.original_test(cal.AP, alpha=0.05)"
   ]
  },
  {
   "cell_type": "code",
   "execution_count": 8,
   "metadata": {
    "scrolled": false
   },
   "outputs": [
    {
     "data": {
      "text/plain": [
       "Mann_Kendall_Test(trend='increasing', h=True, p=8.588862843161849e-08, z=5.354299224585437, Tau=0.5749128919860628, s=495.0, var_s=8512.333333333334, slope=0.17310125943585522, intercept=374.515378487133)"
      ]
     },
     "execution_count": 8,
     "metadata": {},
     "output_type": "execute_result"
    }
   ],
   "source": [
    "mk.original_test(cal.REF, alpha=0.05)"
   ]
  },
  {
   "cell_type": "code",
   "execution_count": 9,
   "metadata": {
    "scrolled": false
   },
   "outputs": [
    {
     "data": {
      "text/plain": [
       "Mann_Kendall_Test(trend='increasing', h=True, p=4.615578585998037e-09, z=5.860470384036757, Tau=0.6461538461538462, s=504.0, var_s=7366.666666666667, slope=0.03479202907388828, intercept=17.476600259883906)"
      ]
     },
     "execution_count": 9,
     "metadata": {},
     "output_type": "execute_result"
    }
   ],
   "source": [
    "mk.original_test(cal.R, alpha=0.05)"
   ]
  },
  {
   "cell_type": "code",
   "execution_count": 10,
   "metadata": {
    "scrolled": true
   },
   "outputs": [
    {
     "data": {
      "text/plain": [
       "Mann_Kendall_Test(trend='increasing', h=True, p=2.0928228483541034e-08, z=5.604147623701154, Tau=0.617948717948718, s=482.0, var_s=7366.666666666667, slope=0.03321737377046266, intercept=295.0459399769683)"
      ]
     },
     "execution_count": 10,
     "metadata": {},
     "output_type": "execute_result"
    }
   ],
   "source": [
    "mk.original_test(cal.TL, alpha=0.05)"
   ]
  },
  {
   "cell_type": "code",
   "execution_count": 11,
   "metadata": {
    "scrolled": true
   },
   "outputs": [
    {
     "data": {
      "text/plain": [
       "Mann_Kendall_Test(trend='increasing', h=True, p=1.969741703078398e-09, z=6.0002827987652685, Tau=0.6615384615384615, s=516.0, var_s=7366.666666666667, slope=0.13697694570101468, intercept=348.87821136673415)"
      ]
     },
     "execution_count": 11,
     "metadata": {},
     "output_type": "execute_result"
    }
   ],
   "source": [
    "mk.original_test(cal.EPT, alpha=0.05)"
   ]
  },
  {
   "cell_type": "code",
   "execution_count": 12,
   "metadata": {
    "scrolled": false
   },
   "outputs": [
    {
     "data": {
      "text/plain": [
       "Mann_Kendall_Test(trend='increasing', h=True, p=4.073454262787379e-08, z=5.487637278094061, Tau=0.6051282051282051, s=472.0, var_s=7366.666666666667, slope=0.02681953049911241, intercept=298.11086469017556)"
      ]
     },
     "execution_count": 12,
     "metadata": {},
     "output_type": "execute_result"
    }
   ],
   "source": [
    "mk.original_test(cal.PT, alpha=0.05)"
   ]
  },
  {
   "cell_type": "code",
   "execution_count": 13,
   "metadata": {},
   "outputs": [
    {
     "data": {
      "text/html": [
       "<div>\n",
       "<style scoped>\n",
       "    .dataframe tbody tr th:only-of-type {\n",
       "        vertical-align: middle;\n",
       "    }\n",
       "\n",
       "    .dataframe tbody tr th {\n",
       "        vertical-align: top;\n",
       "    }\n",
       "\n",
       "    .dataframe thead th {\n",
       "        text-align: right;\n",
       "    }\n",
       "</style>\n",
       "<table border=\"1\" class=\"dataframe\">\n",
       "  <thead>\n",
       "    <tr style=\"text-align: right;\">\n",
       "      <th></th>\n",
       "      <th>Year</th>\n",
       "      <th>Temp</th>\n",
       "      <th>SVP</th>\n",
       "      <th>RH</th>\n",
       "      <th>VP</th>\n",
       "      <th>AP</th>\n",
       "      <th>REF</th>\n",
       "      <th>R</th>\n",
       "      <th>TL</th>\n",
       "      <th>EPT</th>\n",
       "      <th>...</th>\n",
       "      <th>Temp.1</th>\n",
       "      <th>SVP.1</th>\n",
       "      <th>RH.1</th>\n",
       "      <th>VP.1</th>\n",
       "      <th>AP.1</th>\n",
       "      <th>REF.1</th>\n",
       "      <th>R.1</th>\n",
       "      <th>TL.1</th>\n",
       "      <th>EPT.1</th>\n",
       "      <th>PT.1</th>\n",
       "    </tr>\n",
       "  </thead>\n",
       "  <tbody>\n",
       "    <tr>\n",
       "      <th>0</th>\n",
       "      <td>1981.0</td>\n",
       "      <td>298.045000</td>\n",
       "      <td>31.480190</td>\n",
       "      <td>84.380833</td>\n",
       "      <td>26.566986</td>\n",
       "      <td>989.675000</td>\n",
       "      <td>369.798076</td>\n",
       "      <td>17.160486</td>\n",
       "      <td>294.481241</td>\n",
       "      <td>349.147785</td>\n",
       "      <td>...</td>\n",
       "      <td>0.285653</td>\n",
       "      <td>0.285653</td>\n",
       "      <td>NaN</td>\n",
       "      <td>NaN</td>\n",
       "      <td>NaN</td>\n",
       "      <td>NaN</td>\n",
       "      <td>NaN</td>\n",
       "      <td>NaN</td>\n",
       "      <td>0.285653</td>\n",
       "      <td>0.285653</td>\n",
       "    </tr>\n",
       "    <tr>\n",
       "      <th>1</th>\n",
       "      <td>1982.0</td>\n",
       "      <td>297.652500</td>\n",
       "      <td>30.746338</td>\n",
       "      <td>84.582500</td>\n",
       "      <td>25.995192</td>\n",
       "      <td>989.741667</td>\n",
       "      <td>368.042480</td>\n",
       "      <td>16.779416</td>\n",
       "      <td>294.143730</td>\n",
       "      <td>347.539072</td>\n",
       "      <td>...</td>\n",
       "      <td>-0.068776</td>\n",
       "      <td>-0.051045</td>\n",
       "      <td>NaN</td>\n",
       "      <td>NaN</td>\n",
       "      <td>NaN</td>\n",
       "      <td>NaN</td>\n",
       "      <td>NaN</td>\n",
       "      <td>NaN</td>\n",
       "      <td>0.238980</td>\n",
       "      <td>-0.083079</td>\n",
       "    </tr>\n",
       "    <tr>\n",
       "      <th>2</th>\n",
       "      <td>1983.0</td>\n",
       "      <td>298.800000</td>\n",
       "      <td>33.096997</td>\n",
       "      <td>79.838333</td>\n",
       "      <td>26.378266</td>\n",
       "      <td>990.000000</td>\n",
       "      <td>367.780290</td>\n",
       "      <td>17.035596</td>\n",
       "      <td>294.026806</td>\n",
       "      <td>349.728094</td>\n",
       "      <td>...</td>\n",
       "      <td>-0.285653</td>\n",
       "      <td>-0.285653</td>\n",
       "      <td>NaN</td>\n",
       "      <td>NaN</td>\n",
       "      <td>NaN</td>\n",
       "      <td>NaN</td>\n",
       "      <td>NaN</td>\n",
       "      <td>NaN</td>\n",
       "      <td>-0.285653</td>\n",
       "      <td>-0.285653</td>\n",
       "    </tr>\n",
       "    <tr>\n",
       "      <th>3</th>\n",
       "      <td>1984.0</td>\n",
       "      <td>298.810000</td>\n",
       "      <td>33.104781</td>\n",
       "      <td>79.698333</td>\n",
       "      <td>26.111579</td>\n",
       "      <td>988.900000</td>\n",
       "      <td>366.473859</td>\n",
       "      <td>16.874159</td>\n",
       "      <td>293.901478</td>\n",
       "      <td>349.334968</td>\n",
       "      <td>...</td>\n",
       "      <td>0.000000</td>\n",
       "      <td>0.000000</td>\n",
       "      <td>True</td>\n",
       "      <td>True</td>\n",
       "      <td>True</td>\n",
       "      <td>True</td>\n",
       "      <td>True</td>\n",
       "      <td>True</td>\n",
       "      <td>0.000000</td>\n",
       "      <td>0.000000</td>\n",
       "    </tr>\n",
       "    <tr>\n",
       "      <th>4</th>\n",
       "      <td>1985.0</td>\n",
       "      <td>298.249167</td>\n",
       "      <td>31.922250</td>\n",
       "      <td>82.370000</td>\n",
       "      <td>26.200569</td>\n",
       "      <td>989.316667</td>\n",
       "      <td>367.835781</td>\n",
       "      <td>16.923950</td>\n",
       "      <td>294.143065</td>\n",
       "      <td>348.744337</td>\n",
       "      <td>...</td>\n",
       "      <td>NaN</td>\n",
       "      <td>NaN</td>\n",
       "      <td>NaN</td>\n",
       "      <td>NaN</td>\n",
       "      <td>NaN</td>\n",
       "      <td>NaN</td>\n",
       "      <td>NaN</td>\n",
       "      <td>NaN</td>\n",
       "      <td>NaN</td>\n",
       "      <td>NaN</td>\n",
       "    </tr>\n",
       "  </tbody>\n",
       "</table>\n",
       "<p>5 rows × 21 columns</p>\n",
       "</div>"
      ],
      "text/plain": [
       "     Year        Temp        SVP         RH         VP          AP  \\\n",
       "0  1981.0  298.045000  31.480190  84.380833  26.566986  989.675000   \n",
       "1  1982.0  297.652500  30.746338  84.582500  25.995192  989.741667   \n",
       "2  1983.0  298.800000  33.096997  79.838333  26.378266  990.000000   \n",
       "3  1984.0  298.810000  33.104781  79.698333  26.111579  988.900000   \n",
       "4  1985.0  298.249167  31.922250  82.370000  26.200569  989.316667   \n",
       "\n",
       "          REF          R          TL         EPT  ...    Temp.1     SVP.1  \\\n",
       "0  369.798076  17.160486  294.481241  349.147785  ...  0.285653  0.285653   \n",
       "1  368.042480  16.779416  294.143730  347.539072  ... -0.068776 -0.051045   \n",
       "2  367.780290  17.035596  294.026806  349.728094  ... -0.285653 -0.285653   \n",
       "3  366.473859  16.874159  293.901478  349.334968  ...  0.000000  0.000000   \n",
       "4  367.835781  16.923950  294.143065  348.744337  ...       NaN       NaN   \n",
       "\n",
       "   RH.1  VP.1  AP.1 REF.1   R.1  TL.1     EPT.1      PT.1  \n",
       "0   NaN   NaN   NaN   NaN   NaN   NaN  0.285653  0.285653  \n",
       "1   NaN   NaN   NaN   NaN   NaN   NaN  0.238980 -0.083079  \n",
       "2   NaN   NaN   NaN   NaN   NaN   NaN -0.285653 -0.285653  \n",
       "3  True  True  True  True  True  True  0.000000  0.000000  \n",
       "4   NaN   NaN   NaN   NaN   NaN   NaN       NaN       NaN  \n",
       "\n",
       "[5 rows x 21 columns]"
      ]
     },
     "execution_count": 13,
     "metadata": {},
     "output_type": "execute_result"
    }
   ],
   "source": [
    "ibn= pd.read_excel('climate research analyzed.xlsx', sheet_name ='ibadan1')\n",
    "ibn.head()"
   ]
  },
  {
   "cell_type": "code",
   "execution_count": 14,
   "metadata": {
    "scrolled": true
   },
   "outputs": [
    {
     "data": {
      "text/plain": [
       "Mann_Kendall_Test(trend='no trend', h=False, p=0.35734719361075706, z=0.9204317302960315, Tau=0.10256410256410256, s=80.0, var_s=7366.666666666667, slope=0.005210193452380909, intercept=298.2013178943452)"
      ]
     },
     "execution_count": 14,
     "metadata": {},
     "output_type": "execute_result"
    }
   ],
   "source": [
    "mk.original_test(ibn.Temp, alpha=0.05)"
   ]
  },
  {
   "cell_type": "code",
   "execution_count": 15,
   "metadata": {
    "scrolled": false
   },
   "outputs": [
    {
     "data": {
      "text/plain": [
       "Mann_Kendall_Test(trend='increasing', h=True, p=0.00010435295488342433, z=3.8802411384647493, Tau=0.4169570267131243, s=359.0, var_s=8512.333333333334, slope=0.03406748652404466, intercept=26.45545230465243)"
      ]
     },
     "execution_count": 15,
     "metadata": {},
     "output_type": "execute_result"
    }
   ],
   "source": [
    "mk.original_test(ibn.VP, alpha=0.05)"
   ]
  },
  {
   "cell_type": "code",
   "execution_count": 16,
   "metadata": {
    "scrolled": true
   },
   "outputs": [
    {
     "data": {
      "text/plain": [
       "Mann_Kendall_Test(trend='no trend', h=False, p=0.8887706956002968, z=-0.1398598865474543, Tau=-0.016666666666666666, s=-13.0, var_s=7361.666666666667, slope=-0.0007411067193745539, intercept=989.5727849143613)"
      ]
     },
     "execution_count": 16,
     "metadata": {},
     "output_type": "execute_result"
    }
   ],
   "source": [
    "mk.original_test(ibn.AP, alpha=0.05)"
   ]
  },
  {
   "cell_type": "code",
   "execution_count": 17,
   "metadata": {
    "scrolled": true
   },
   "outputs": [
    {
     "data": {
      "text/plain": [
       "Mann_Kendall_Test(trend='increasing', h=True, p=5.53083271821464e-05, z=4.031982412035997, Tau=0.4332171893147503, s=373.0, var_s=8512.333333333334, slope=0.13339753531591292, intercept=369.1575653037994)"
      ]
     },
     "execution_count": 17,
     "metadata": {},
     "output_type": "execute_result"
    }
   ],
   "source": [
    "mk.original_test(ibn.REF, alpha=0.05)"
   ]
  },
  {
   "cell_type": "code",
   "execution_count": 18,
   "metadata": {
    "scrolled": true
   },
   "outputs": [
    {
     "data": {
      "text/plain": [
       "Mann_Kendall_Test(trend='increasing', h=True, p=2.880402754890099e-05, z=4.182721407294625, Tau=0.46153846153846156, s=360.0, var_s=7366.666666666667, slope=0.024587622316028283, intercept=17.074116151233014)"
      ]
     },
     "execution_count": 18,
     "metadata": {},
     "output_type": "execute_result"
    }
   ],
   "source": [
    "mk.original_test(ibn.R, alpha=0.05)"
   ]
  },
  {
   "cell_type": "code",
   "execution_count": 19,
   "metadata": {
    "scrolled": true
   },
   "outputs": [
    {
     "data": {
      "text/plain": [
       "Mann_Kendall_Test(trend='increasing', h=True, p=8.622720154738417e-05, z=3.9263986469590204, Tau=0.43333333333333335, s=338.0, var_s=7366.666666666667, slope=0.02686742559613625, intercept=294.2826499416132)"
      ]
     },
     "execution_count": 19,
     "metadata": {},
     "output_type": "execute_result"
    }
   ],
   "source": [
    "mk.original_test(ibn.TL, alpha=0.05)"
   ]
  },
  {
   "cell_type": "code",
   "execution_count": 20,
   "metadata": {},
   "outputs": [
    {
     "data": {
      "text/plain": [
       "Mann_Kendall_Test(trend='increasing', h=True, p=9.496978488710006e-05, z=3.903096577837602, Tau=0.4307692307692308, s=336.0, var_s=7366.666666666667, slope=0.07899397110509199, intercept=349.0921894802335)"
      ]
     },
     "execution_count": 20,
     "metadata": {},
     "output_type": "execute_result"
    }
   ],
   "source": [
    "mk.original_test(ibn.EPT, alpha=0.05)"
   ]
  },
  {
   "cell_type": "code",
   "execution_count": 21,
   "metadata": {},
   "outputs": [
    {
     "data": {
      "text/html": [
       "<div>\n",
       "<style scoped>\n",
       "    .dataframe tbody tr th:only-of-type {\n",
       "        vertical-align: middle;\n",
       "    }\n",
       "\n",
       "    .dataframe tbody tr th {\n",
       "        vertical-align: top;\n",
       "    }\n",
       "\n",
       "    .dataframe thead th {\n",
       "        text-align: right;\n",
       "    }\n",
       "</style>\n",
       "<table border=\"1\" class=\"dataframe\">\n",
       "  <thead>\n",
       "    <tr style=\"text-align: right;\">\n",
       "      <th></th>\n",
       "      <th>Year</th>\n",
       "      <th>Temp</th>\n",
       "      <th>SVP</th>\n",
       "      <th>RH</th>\n",
       "      <th>VP</th>\n",
       "      <th>AP</th>\n",
       "      <th>REF</th>\n",
       "      <th>R</th>\n",
       "      <th>TL</th>\n",
       "      <th>EPT</th>\n",
       "      <th>...</th>\n",
       "      <th>Temp.1</th>\n",
       "      <th>SVP.1</th>\n",
       "      <th>RH.1</th>\n",
       "      <th>VP.1</th>\n",
       "      <th>AP.1</th>\n",
       "      <th>REF.1</th>\n",
       "      <th>R.1</th>\n",
       "      <th>TL.1</th>\n",
       "      <th>EPT.1</th>\n",
       "      <th>PT.1</th>\n",
       "    </tr>\n",
       "  </thead>\n",
       "  <tbody>\n",
       "    <tr>\n",
       "      <th>0</th>\n",
       "      <td>1981.0</td>\n",
       "      <td>298.374167</td>\n",
       "      <td>32.635658</td>\n",
       "      <td>46.050833</td>\n",
       "      <td>15.618697</td>\n",
       "      <td>960.550000</td>\n",
       "      <td>315.122843</td>\n",
       "      <td>10.330774</td>\n",
       "      <td>281.554016</td>\n",
       "      <td>332.859321</td>\n",
       "      <td>...</td>\n",
       "      <td>NaN</td>\n",
       "      <td>NaN</td>\n",
       "      <td>NaN</td>\n",
       "      <td>NaN</td>\n",
       "      <td>0.285653</td>\n",
       "      <td>NaN</td>\n",
       "      <td>NaN</td>\n",
       "      <td>NaN</td>\n",
       "      <td>0.285653</td>\n",
       "      <td>NaN</td>\n",
       "    </tr>\n",
       "    <tr>\n",
       "      <th>1</th>\n",
       "      <td>1982.0</td>\n",
       "      <td>298.756667</td>\n",
       "      <td>33.299984</td>\n",
       "      <td>48.139167</td>\n",
       "      <td>16.510078</td>\n",
       "      <td>960.441667</td>\n",
       "      <td>318.419509</td>\n",
       "      <td>10.919639</td>\n",
       "      <td>283.148446</td>\n",
       "      <td>334.999812</td>\n",
       "      <td>...</td>\n",
       "      <td>NaN</td>\n",
       "      <td>NaN</td>\n",
       "      <td>NaN</td>\n",
       "      <td>NaN</td>\n",
       "      <td>0.280640</td>\n",
       "      <td>NaN</td>\n",
       "      <td>NaN</td>\n",
       "      <td>NaN</td>\n",
       "      <td>0.183948</td>\n",
       "      <td>NaN</td>\n",
       "    </tr>\n",
       "    <tr>\n",
       "      <th>2</th>\n",
       "      <td>1983.0</td>\n",
       "      <td>298.055000</td>\n",
       "      <td>32.145180</td>\n",
       "      <td>43.839167</td>\n",
       "      <td>14.513767</td>\n",
       "      <td>961.141667</td>\n",
       "      <td>311.072128</td>\n",
       "      <td>9.589215</td>\n",
       "      <td>280.067978</td>\n",
       "      <td>330.271194</td>\n",
       "      <td>...</td>\n",
       "      <td>NaN</td>\n",
       "      <td>NaN</td>\n",
       "      <td>NaN</td>\n",
       "      <td>NaN</td>\n",
       "      <td>-0.285653</td>\n",
       "      <td>NaN</td>\n",
       "      <td>NaN</td>\n",
       "      <td>NaN</td>\n",
       "      <td>-0.285653</td>\n",
       "      <td>NaN</td>\n",
       "    </tr>\n",
       "    <tr>\n",
       "      <th>3</th>\n",
       "      <td>1984.0</td>\n",
       "      <td>298.455833</td>\n",
       "      <td>32.850286</td>\n",
       "      <td>47.603333</td>\n",
       "      <td>16.286631</td>\n",
       "      <td>959.800000</td>\n",
       "      <td>317.581049</td>\n",
       "      <td>10.782303</td>\n",
       "      <td>282.669561</td>\n",
       "      <td>334.364508</td>\n",
       "      <td>...</td>\n",
       "      <td>True</td>\n",
       "      <td>True</td>\n",
       "      <td>True</td>\n",
       "      <td>True</td>\n",
       "      <td>0.000000</td>\n",
       "      <td>True</td>\n",
       "      <td>True</td>\n",
       "      <td>True</td>\n",
       "      <td>0.000000</td>\n",
       "      <td>True</td>\n",
       "    </tr>\n",
       "    <tr>\n",
       "      <th>4</th>\n",
       "      <td>1985.0</td>\n",
       "      <td>298.229167</td>\n",
       "      <td>32.241333</td>\n",
       "      <td>45.030833</td>\n",
       "      <td>15.059492</td>\n",
       "      <td>960.216667</td>\n",
       "      <td>312.932702</td>\n",
       "      <td>9.955178</td>\n",
       "      <td>281.038468</td>\n",
       "      <td>331.603839</td>\n",
       "      <td>...</td>\n",
       "      <td>NaN</td>\n",
       "      <td>NaN</td>\n",
       "      <td>NaN</td>\n",
       "      <td>NaN</td>\n",
       "      <td>NaN</td>\n",
       "      <td>NaN</td>\n",
       "      <td>NaN</td>\n",
       "      <td>NaN</td>\n",
       "      <td>NaN</td>\n",
       "      <td>NaN</td>\n",
       "    </tr>\n",
       "  </tbody>\n",
       "</table>\n",
       "<p>5 rows × 21 columns</p>\n",
       "</div>"
      ],
      "text/plain": [
       "     Year        Temp        SVP         RH         VP          AP  \\\n",
       "0  1981.0  298.374167  32.635658  46.050833  15.618697  960.550000   \n",
       "1  1982.0  298.756667  33.299984  48.139167  16.510078  960.441667   \n",
       "2  1983.0  298.055000  32.145180  43.839167  14.513767  961.141667   \n",
       "3  1984.0  298.455833  32.850286  47.603333  16.286631  959.800000   \n",
       "4  1985.0  298.229167  32.241333  45.030833  15.059492  960.216667   \n",
       "\n",
       "          REF          R          TL         EPT  ...  Temp.1 SVP.1  RH.1  \\\n",
       "0  315.122843  10.330774  281.554016  332.859321  ...     NaN   NaN   NaN   \n",
       "1  318.419509  10.919639  283.148446  334.999812  ...     NaN   NaN   NaN   \n",
       "2  311.072128   9.589215  280.067978  330.271194  ...     NaN   NaN   NaN   \n",
       "3  317.581049  10.782303  282.669561  334.364508  ...    True  True  True   \n",
       "4  312.932702   9.955178  281.038468  331.603839  ...     NaN   NaN   NaN   \n",
       "\n",
       "   VP.1      AP.1  REF.1   R.1  TL.1     EPT.1  PT.1  \n",
       "0   NaN  0.285653    NaN   NaN   NaN  0.285653   NaN  \n",
       "1   NaN  0.280640    NaN   NaN   NaN  0.183948   NaN  \n",
       "2   NaN -0.285653    NaN   NaN   NaN -0.285653   NaN  \n",
       "3  True  0.000000   True  True  True  0.000000  True  \n",
       "4   NaN       NaN    NaN   NaN   NaN       NaN   NaN  \n",
       "\n",
       "[5 rows x 21 columns]"
      ]
     },
     "execution_count": 21,
     "metadata": {},
     "output_type": "execute_result"
    }
   ],
   "source": [
    "kan= pd.read_excel('climate research analyzed.xlsx', sheet_name ='kano1')\n",
    "kan.head()"
   ]
  },
  {
   "cell_type": "code",
   "execution_count": 22,
   "metadata": {
    "scrolled": true
   },
   "outputs": [
    {
     "data": {
      "text/plain": [
       "Mann_Kendall_Test(trend='increasing', h=True, p=8.106709760813402e-06, z=4.462346236751647, Tau=0.49230769230769234, s=384.0, var_s=7366.666666666667, slope=0.05161199294532791, intercept=297.85023280423275)"
      ]
     },
     "execution_count": 22,
     "metadata": {},
     "output_type": "execute_result"
    }
   ],
   "source": [
    "mk.original_test(kan.Temp, alpha=0.05)"
   ]
  },
  {
   "cell_type": "code",
   "execution_count": 23,
   "metadata": {
    "scrolled": true
   },
   "outputs": [
    {
     "data": {
      "text/plain": [
       "Mann_Kendall_Test(trend='no trend', h=False, p=0.4743917385049379, z=-0.715351718264451, Tau=-0.07781649245063879, s=-67.0, var_s=8512.333333333334, slope=-0.012069563127764539, intercept=15.907077436854266)"
      ]
     },
     "execution_count": 23,
     "metadata": {},
     "output_type": "execute_result"
    }
   ],
   "source": [
    "mk.original_test(kan.VP, alpha=0.05)"
   ]
  },
  {
   "cell_type": "code",
   "execution_count": 24,
   "metadata": {},
   "outputs": [
    {
     "data": {
      "text/plain": [
       "Mann_Kendall_Test(trend='no trend', h=False, p=0.21233564767916757, z=1.247168698210847, Tau=0.13846153846153847, s=108.0, var_s=7360.666666666667, slope=0.007665598290591319, intercept=960.3755208333334)"
      ]
     },
     "execution_count": 24,
     "metadata": {},
     "output_type": "execute_result"
    }
   ],
   "source": [
    "mk.original_test(kan.AP, alpha=0.05)"
   ]
  },
  {
   "cell_type": "code",
   "execution_count": 25,
   "metadata": {
    "scrolled": true
   },
   "outputs": [
    {
     "data": {
      "text/plain": [
       "Mann_Kendall_Test(trend='no trend', h=False, p=0.2505979541158305, z=-1.1488982141823, Tau=-0.12427409988385599, s=-107.0, var_s=8512.333333333334, slope=-0.10820756711176689, intercept=316.56494825093984)"
      ]
     },
     "execution_count": 25,
     "metadata": {},
     "output_type": "execute_result"
    }
   ],
   "source": [
    "mk.original_test(kan.REF, alpha=0.05)"
   ]
  },
  {
   "cell_type": "code",
   "execution_count": 26,
   "metadata": {
    "scrolled": true
   },
   "outputs": [
    {
     "data": {
      "text/plain": [
       "Mann_Kendall_Test(trend='no trend', h=False, p=0.43502642785483836, z=-0.7806193155675204, Tau=-0.08717948717948718, s=-68.0, var_s=7366.666666666667, slope=-0.007703139831075769, intercept=10.504571494265335)"
      ]
     },
     "execution_count": 26,
     "metadata": {},
     "output_type": "execute_result"
    }
   ],
   "source": [
    "mk.original_test(kan.R, alpha=0.05)"
   ]
  },
  {
   "cell_type": "code",
   "execution_count": 27,
   "metadata": {
    "scrolled": true
   },
   "outputs": [
    {
     "data": {
      "text/plain": [
       "Mann_Kendall_Test(trend='no trend', h=False, p=0.16560248483061546, z=-1.3864731127244019, Tau=-0.15384615384615385, s=-120.0, var_s=7366.666666666667, slope=-0.033411357343653206, intercept=282.13714424808404)"
      ]
     },
     "execution_count": 27,
     "metadata": {},
     "output_type": "execute_result"
    }
   ],
   "source": [
    "mk.original_test(kan.TL, alpha=0.05)"
   ]
  },
  {
   "cell_type": "code",
   "execution_count": 28,
   "metadata": {},
   "outputs": [
    {
     "data": {
      "text/plain": [
       "Mann_Kendall_Test(trend='no trend', h=False, p=0.20409789310190107, z=1.2699627671173093, Tau=0.14102564102564102, s=110.0, var_s=7366.666666666667, slope=0.03687351337678558, intercept=333.0507434844703)"
      ]
     },
     "execution_count": 28,
     "metadata": {},
     "output_type": "execute_result"
    }
   ],
   "source": [
    "mk.original_test(kan.EPT, alpha=0.05)"
   ]
  },
  {
   "cell_type": "code",
   "execution_count": 29,
   "metadata": {
    "scrolled": true
   },
   "outputs": [
    {
     "data": {
      "text/plain": [
       "Mann_Kendall_Test(trend='increasing', h=True, p=1.120855534253451e-05, z=4.392440029387391, Tau=0.4846153846153846, s=378.0, var_s=7366.666666666667, slope=0.051767752982776735, intercept=301.29394694964327)"
      ]
     },
     "execution_count": 29,
     "metadata": {},
     "output_type": "execute_result"
    }
   ],
   "source": [
    "mk.original_test(kan.PT, alpha=0.05)"
   ]
  },
  {
   "cell_type": "code",
   "execution_count": 30,
   "metadata": {},
   "outputs": [
    {
     "data": {
      "text/html": [
       "<div>\n",
       "<style scoped>\n",
       "    .dataframe tbody tr th:only-of-type {\n",
       "        vertical-align: middle;\n",
       "    }\n",
       "\n",
       "    .dataframe tbody tr th {\n",
       "        vertical-align: top;\n",
       "    }\n",
       "\n",
       "    .dataframe thead th {\n",
       "        text-align: right;\n",
       "    }\n",
       "</style>\n",
       "<table border=\"1\" class=\"dataframe\">\n",
       "  <thead>\n",
       "    <tr style=\"text-align: right;\">\n",
       "      <th></th>\n",
       "      <th>Year</th>\n",
       "      <th>Temp</th>\n",
       "      <th>SVP</th>\n",
       "      <th>RH</th>\n",
       "      <th>VP</th>\n",
       "      <th>AP</th>\n",
       "      <th>REF</th>\n",
       "      <th>R</th>\n",
       "      <th>TL</th>\n",
       "      <th>EPT</th>\n",
       "      <th>...</th>\n",
       "      <th>Temp.1</th>\n",
       "      <th>SVP.1</th>\n",
       "      <th>RH.1</th>\n",
       "      <th>VP.1</th>\n",
       "      <th>AP.1</th>\n",
       "      <th>REF.1</th>\n",
       "      <th>R.1</th>\n",
       "      <th>TL.1</th>\n",
       "      <th>EPT.1</th>\n",
       "      <th>PT.1</th>\n",
       "    </tr>\n",
       "  </thead>\n",
       "  <tbody>\n",
       "    <tr>\n",
       "      <th>0</th>\n",
       "      <td>1981.0</td>\n",
       "      <td>298.374167</td>\n",
       "      <td>32.635658</td>\n",
       "      <td>46.050833</td>\n",
       "      <td>15.618697</td>\n",
       "      <td>960.550000</td>\n",
       "      <td>315.122843</td>\n",
       "      <td>10.330774</td>\n",
       "      <td>281.554016</td>\n",
       "      <td>332.859321</td>\n",
       "      <td>...</td>\n",
       "      <td>NaN</td>\n",
       "      <td>NaN</td>\n",
       "      <td>NaN</td>\n",
       "      <td>NaN</td>\n",
       "      <td>0.285653</td>\n",
       "      <td>NaN</td>\n",
       "      <td>NaN</td>\n",
       "      <td>NaN</td>\n",
       "      <td>0.285653</td>\n",
       "      <td>NaN</td>\n",
       "    </tr>\n",
       "    <tr>\n",
       "      <th>1</th>\n",
       "      <td>1982.0</td>\n",
       "      <td>298.756667</td>\n",
       "      <td>33.299984</td>\n",
       "      <td>48.139167</td>\n",
       "      <td>16.510078</td>\n",
       "      <td>960.441667</td>\n",
       "      <td>318.419509</td>\n",
       "      <td>10.919639</td>\n",
       "      <td>283.148446</td>\n",
       "      <td>334.999812</td>\n",
       "      <td>...</td>\n",
       "      <td>NaN</td>\n",
       "      <td>NaN</td>\n",
       "      <td>NaN</td>\n",
       "      <td>NaN</td>\n",
       "      <td>0.280640</td>\n",
       "      <td>NaN</td>\n",
       "      <td>NaN</td>\n",
       "      <td>NaN</td>\n",
       "      <td>0.183948</td>\n",
       "      <td>NaN</td>\n",
       "    </tr>\n",
       "    <tr>\n",
       "      <th>2</th>\n",
       "      <td>1983.0</td>\n",
       "      <td>298.055000</td>\n",
       "      <td>32.145180</td>\n",
       "      <td>43.839167</td>\n",
       "      <td>14.513767</td>\n",
       "      <td>961.141667</td>\n",
       "      <td>311.072128</td>\n",
       "      <td>9.589215</td>\n",
       "      <td>280.067978</td>\n",
       "      <td>330.271194</td>\n",
       "      <td>...</td>\n",
       "      <td>NaN</td>\n",
       "      <td>NaN</td>\n",
       "      <td>NaN</td>\n",
       "      <td>NaN</td>\n",
       "      <td>-0.285653</td>\n",
       "      <td>NaN</td>\n",
       "      <td>NaN</td>\n",
       "      <td>NaN</td>\n",
       "      <td>-0.285653</td>\n",
       "      <td>NaN</td>\n",
       "    </tr>\n",
       "    <tr>\n",
       "      <th>3</th>\n",
       "      <td>1984.0</td>\n",
       "      <td>298.455833</td>\n",
       "      <td>32.850286</td>\n",
       "      <td>47.603333</td>\n",
       "      <td>16.286631</td>\n",
       "      <td>959.800000</td>\n",
       "      <td>317.581049</td>\n",
       "      <td>10.782303</td>\n",
       "      <td>282.669561</td>\n",
       "      <td>334.364508</td>\n",
       "      <td>...</td>\n",
       "      <td>True</td>\n",
       "      <td>True</td>\n",
       "      <td>True</td>\n",
       "      <td>True</td>\n",
       "      <td>0.000000</td>\n",
       "      <td>True</td>\n",
       "      <td>True</td>\n",
       "      <td>True</td>\n",
       "      <td>0.000000</td>\n",
       "      <td>True</td>\n",
       "    </tr>\n",
       "    <tr>\n",
       "      <th>4</th>\n",
       "      <td>1985.0</td>\n",
       "      <td>298.229167</td>\n",
       "      <td>32.241333</td>\n",
       "      <td>45.030833</td>\n",
       "      <td>15.059492</td>\n",
       "      <td>960.216667</td>\n",
       "      <td>312.932702</td>\n",
       "      <td>9.955178</td>\n",
       "      <td>281.038468</td>\n",
       "      <td>331.603839</td>\n",
       "      <td>...</td>\n",
       "      <td>NaN</td>\n",
       "      <td>NaN</td>\n",
       "      <td>NaN</td>\n",
       "      <td>NaN</td>\n",
       "      <td>NaN</td>\n",
       "      <td>NaN</td>\n",
       "      <td>NaN</td>\n",
       "      <td>NaN</td>\n",
       "      <td>NaN</td>\n",
       "      <td>NaN</td>\n",
       "    </tr>\n",
       "  </tbody>\n",
       "</table>\n",
       "<p>5 rows × 21 columns</p>\n",
       "</div>"
      ],
      "text/plain": [
       "     Year        Temp        SVP         RH         VP          AP  \\\n",
       "0  1981.0  298.374167  32.635658  46.050833  15.618697  960.550000   \n",
       "1  1982.0  298.756667  33.299984  48.139167  16.510078  960.441667   \n",
       "2  1983.0  298.055000  32.145180  43.839167  14.513767  961.141667   \n",
       "3  1984.0  298.455833  32.850286  47.603333  16.286631  959.800000   \n",
       "4  1985.0  298.229167  32.241333  45.030833  15.059492  960.216667   \n",
       "\n",
       "          REF          R          TL         EPT  ...  Temp.1 SVP.1  RH.1  \\\n",
       "0  315.122843  10.330774  281.554016  332.859321  ...     NaN   NaN   NaN   \n",
       "1  318.419509  10.919639  283.148446  334.999812  ...     NaN   NaN   NaN   \n",
       "2  311.072128   9.589215  280.067978  330.271194  ...     NaN   NaN   NaN   \n",
       "3  317.581049  10.782303  282.669561  334.364508  ...    True  True  True   \n",
       "4  312.932702   9.955178  281.038468  331.603839  ...     NaN   NaN   NaN   \n",
       "\n",
       "   VP.1      AP.1  REF.1   R.1  TL.1     EPT.1  PT.1  \n",
       "0   NaN  0.285653    NaN   NaN   NaN  0.285653   NaN  \n",
       "1   NaN  0.280640    NaN   NaN   NaN  0.183948   NaN  \n",
       "2   NaN -0.285653    NaN   NaN   NaN -0.285653   NaN  \n",
       "3  True  0.000000   True  True  True  0.000000  True  \n",
       "4   NaN       NaN    NaN   NaN   NaN       NaN   NaN  \n",
       "\n",
       "[5 rows x 21 columns]"
      ]
     },
     "execution_count": 30,
     "metadata": {},
     "output_type": "execute_result"
    }
   ],
   "source": [
    "kuk= pd.read_excel('climate research analyzed.xlsx', sheet_name ='kano1')\n",
    "kuk.head()"
   ]
  },
  {
   "cell_type": "code",
   "execution_count": 31,
   "metadata": {},
   "outputs": [
    {
     "data": {
      "text/plain": [
       "Mann_Kendall_Test(trend='increasing', h=True, p=8.106709760813402e-06, z=4.462346236751647, Tau=0.49230769230769234, s=384.0, var_s=7366.666666666667, slope=0.05161199294532791, intercept=297.85023280423275)"
      ]
     },
     "execution_count": 31,
     "metadata": {},
     "output_type": "execute_result"
    }
   ],
   "source": [
    "mk.original_test(kuk.Temp, alpha=0.05)"
   ]
  },
  {
   "cell_type": "code",
   "execution_count": 32,
   "metadata": {
    "scrolled": true
   },
   "outputs": [
    {
     "data": {
      "text/plain": [
       "Mann_Kendall_Test(trend='no trend', h=False, p=0.4743917385049379, z=-0.715351718264451, Tau=-0.07781649245063879, s=-67.0, var_s=8512.333333333334, slope=-0.012069563127764539, intercept=15.907077436854266)"
      ]
     },
     "execution_count": 32,
     "metadata": {},
     "output_type": "execute_result"
    }
   ],
   "source": [
    "mk.original_test(kuk.VP, alpha=0.05)"
   ]
  },
  {
   "cell_type": "code",
   "execution_count": 33,
   "metadata": {
    "scrolled": true
   },
   "outputs": [
    {
     "data": {
      "text/plain": [
       "Mann_Kendall_Test(trend='no trend', h=False, p=0.21233564767916757, z=1.247168698210847, Tau=0.13846153846153847, s=108.0, var_s=7360.666666666667, slope=0.007665598290591319, intercept=960.3755208333334)"
      ]
     },
     "execution_count": 33,
     "metadata": {},
     "output_type": "execute_result"
    }
   ],
   "source": [
    "mk.original_test(kuk.AP, alpha=0.05)"
   ]
  },
  {
   "cell_type": "code",
   "execution_count": 34,
   "metadata": {
    "scrolled": true
   },
   "outputs": [
    {
     "data": {
      "text/plain": [
       "Mann_Kendall_Test(trend='no trend', h=False, p=0.2505979541158305, z=-1.1488982141823, Tau=-0.12427409988385599, s=-107.0, var_s=8512.333333333334, slope=-0.10820756711176689, intercept=316.56494825093984)"
      ]
     },
     "execution_count": 34,
     "metadata": {},
     "output_type": "execute_result"
    }
   ],
   "source": [
    "mk.original_test(kuk.REF, alpha=0.05)"
   ]
  },
  {
   "cell_type": "code",
   "execution_count": 35,
   "metadata": {
    "scrolled": true
   },
   "outputs": [
    {
     "data": {
      "text/plain": [
       "Mann_Kendall_Test(trend='no trend', h=False, p=0.43502642785483836, z=-0.7806193155675204, Tau=-0.08717948717948718, s=-68.0, var_s=7366.666666666667, slope=-0.007703139831075769, intercept=10.504571494265335)"
      ]
     },
     "execution_count": 35,
     "metadata": {},
     "output_type": "execute_result"
    }
   ],
   "source": [
    "mk.original_test(kuk.R, alpha=0.05)"
   ]
  },
  {
   "cell_type": "code",
   "execution_count": 36,
   "metadata": {
    "scrolled": true
   },
   "outputs": [
    {
     "data": {
      "text/plain": [
       "Mann_Kendall_Test(trend='no trend', h=False, p=0.16560248483061546, z=-1.3864731127244019, Tau=-0.15384615384615385, s=-120.0, var_s=7366.666666666667, slope=-0.033411357343653206, intercept=282.13714424808404)"
      ]
     },
     "execution_count": 36,
     "metadata": {},
     "output_type": "execute_result"
    }
   ],
   "source": [
    "mk.original_test(kuk.TL, alpha=0.05)"
   ]
  },
  {
   "cell_type": "code",
   "execution_count": 37,
   "metadata": {
    "scrolled": true
   },
   "outputs": [
    {
     "data": {
      "text/plain": [
       "Mann_Kendall_Test(trend='no trend', h=False, p=0.20409789310190107, z=1.2699627671173093, Tau=0.14102564102564102, s=110.0, var_s=7366.666666666667, slope=0.03687351337678558, intercept=333.0507434844703)"
      ]
     },
     "execution_count": 37,
     "metadata": {},
     "output_type": "execute_result"
    }
   ],
   "source": [
    "mk.original_test(kuk.EPT, alpha=0.05)"
   ]
  },
  {
   "cell_type": "code",
   "execution_count": 38,
   "metadata": {},
   "outputs": [
    {
     "data": {
      "text/plain": [
       "Mann_Kendall_Test(trend='increasing', h=True, p=1.120855534253451e-05, z=4.392440029387391, Tau=0.4846153846153846, s=378.0, var_s=7366.666666666667, slope=0.051767752982776735, intercept=301.29394694964327)"
      ]
     },
     "execution_count": 38,
     "metadata": {},
     "output_type": "execute_result"
    }
   ],
   "source": [
    "mk.original_test(kuk.PT, alpha=0.05)"
   ]
  }
 ],
 "metadata": {
  "kernelspec": {
   "display_name": "Python 3",
   "language": "python",
   "name": "python3"
  },
  "language_info": {
   "codemirror_mode": {
    "name": "ipython",
    "version": 3
   },
   "file_extension": ".py",
   "mimetype": "text/x-python",
   "name": "python",
   "nbconvert_exporter": "python",
   "pygments_lexer": "ipython3",
   "version": "3.8.5"
  }
 },
 "nbformat": 4,
 "nbformat_minor": 4
}
